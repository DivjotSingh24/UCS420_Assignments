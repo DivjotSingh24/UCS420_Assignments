{
  "metadata": {
    "kernelspec": {
      "name": "python",
      "display_name": "Python (Pyodide)",
      "language": "python"
    },
    "language_info": {
      "codemirror_mode": {
        "name": "python",
        "version": 3
      },
      "file_extension": ".py",
      "mimetype": "text/x-python",
      "name": "python",
      "nbconvert_exporter": "python",
      "pygments_lexer": "ipython3",
      "version": "3.8"
    }
  },
  "nbformat_minor": 4,
  "nbformat": 4,
  "cells": [
    {
      "cell_type": "code",
      "source": "#4.1\n# Table of 7\nprint(\"Table of 7:\")\nfor i in range(1, 11):\n    print('7 x ', i, ' =', 7*i)\nprint()\n# Table of 7\nprint(\"Table of 9:\")\nfor i in range(1, 11):\n    print('9 x ', i, ' =', 9*i)\n",
      "metadata": {
        "trusted": true
      },
      "outputs": [],
      "execution_count": null
    },
    {
      "cell_type": "code",
      "source": "#4.2\nn = int(input(\"Enter the number n: \"))\nprint(\"Table of n:\")\nfor i in range(1, 11):\n    print(n, \"x\", i, \"=\", n * i)",
      "metadata": {
        "trusted": true
      },
      "outputs": [],
      "execution_count": null
    },
    {
      "cell_type": "code",
      "source": "#4.3\nn = int(input(\"Enter the number n: \"))\ntotal_sum = sum(range(1, n + 1))\nprint('The sum of numbers from 1 to n is:', total_sum)",
      "metadata": {
        "trusted": true
      },
      "outputs": [],
      "execution_count": null
    },
    {
      "cell_type": "code",
      "source": "",
      "metadata": {
        "trusted": true
      },
      "outputs": [],
      "execution_count": null
    }
  ]
}