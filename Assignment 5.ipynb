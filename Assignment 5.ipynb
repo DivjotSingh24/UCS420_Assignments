{
  "metadata": {
    "kernelspec": {
      "name": "python",
      "display_name": "Python (Pyodide)",
      "language": "python"
    },
    "language_info": {
      "codemirror_mode": {
        "name": "python",
        "version": 3
      },
      "file_extension": ".py",
      "mimetype": "text/x-python",
      "name": "python",
      "nbconvert_exporter": "python",
      "pygments_lexer": "ipython3",
      "version": "3.8"
    }
  },
  "nbformat_minor": 4,
  "nbformat": 4,
  "cells": [
    {
      "cell_type": "code",
      "source": "#5.1\nnum1 = int(input(\"Enter the first number: \"))\nnum2 = int(input(\"Enter the second number: \"))\nnum3 = int(input(\"Enter the third number: \"))\nmaximum = max(num1, num2, num3)\nprint(\"The maximum among\", num1, \",\", num2, \"and\", num3, \"is: \", maximum)",
      "metadata": {
        "trusted": true
      },
      "outputs": [],
      "execution_count": null
    },
    {
      "cell_type": "code",
      "source": "#5.2\nn = int(input(\"Enter the number n: \"))\ntotalSum = 0\nfor num in range(1, n + 1):\n    if num % 7 == 0 and num % 9 == 0:\n        totalSum += num\nprint(\"The sum of numbers divisible by 7 and 9 from 1 to n is: \", totalSum)",
      "metadata": {
        "trusted": true
      },
      "outputs": [],
      "execution_count": null
    },
    {
      "cell_type": "code",
      "source": "#5.3\nn = int(input(\"Enter a number n: \"))\ntotal = 0\nfor num in range(2, n+1):\n    is_prime = True\n    for i in range(2, num):\n        if num % i == 0:\n            is_prime = False\n            break\n    if is_prime:\n        total += num\nprint(\"The sum of all prime numbers from 1 to\", n, \"is: \", total)\n",
      "metadata": {
        "trusted": true
      },
      "outputs": [],
      "execution_count": null
    }
  ]
}