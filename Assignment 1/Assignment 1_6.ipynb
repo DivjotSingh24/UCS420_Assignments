{
  "cells": [
    {
      "cell_type": "code",
      "execution_count": 1,
      "metadata": {
        "trusted": true
      },
      "outputs": [
        {
          "name": "stdout",
          "output_type": "stream",
          "text": [
            "The sum of all odd numbers from 1 to 54 is:  729\n"
          ]
        }
      ],
      "source": [
        "#6.1\n",
        "def sum_of_odds(n):\n",
        "    total = 0\n",
        "    for num in range(1, n+1, 2): \n",
        "        total += num\n",
        "    return total\n",
        "n = int(input(\"Enter a number n: \"))\n",
        "result = sum_of_odds(n)\n",
        "print(\"The sum of all odd numbers from 1 to\", n, \"is: \", result)"
      ]
    },
    {
      "cell_type": "code",
      "execution_count": 2,
      "metadata": {
        "trusted": true
      },
      "outputs": [
        {
          "name": "stdout",
          "output_type": "stream",
          "text": [
            "The sum of all prime numbers from 1 to 45 is: 281\n"
          ]
        }
      ],
      "source": [
        "#6.2\n",
        "def is_prime(num):\n",
        "    if num <= 1:\n",
        "        return False\n",
        "    for i in range(2, int(num**0.5) + 1):\n",
        "        if num % i == 0:\n",
        "            return False\n",
        "    return True\n",
        "def sum_primes(n):\n",
        "    total = 0\n",
        "    for num in range(2, n+1):\n",
        "        if is_prime(num):\n",
        "            total += num\n",
        "    return total\n",
        "n = int(input(\"Enter a number n: \"))\n",
        "result = sum_primes(n)\n",
        "print(\"The sum of all prime numbers from 1 to\", n, \"is:\", result)\n"
      ]
    }
  ],
  "metadata": {
    "kernelspec": {
      "display_name": "Python 3",
      "language": "python",
      "name": "python3"
    },
    "language_info": {
      "codemirror_mode": {
        "name": "ipython",
        "version": 3
      },
      "file_extension": ".py",
      "mimetype": "text/x-python",
      "name": "python",
      "nbconvert_exporter": "python",
      "pygments_lexer": "ipython3",
      "version": "3.13.1"
    }
  },
  "nbformat": 4,
  "nbformat_minor": 4
}
