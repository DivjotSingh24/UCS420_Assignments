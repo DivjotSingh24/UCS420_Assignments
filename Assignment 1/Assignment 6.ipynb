{
  "metadata": {
    "kernelspec": {
      "name": "python",
      "display_name": "Python (Pyodide)",
      "language": "python"
    },
    "language_info": {
      "codemirror_mode": {
        "name": "python",
        "version": 3
      },
      "file_extension": ".py",
      "mimetype": "text/x-python",
      "name": "python",
      "nbconvert_exporter": "python",
      "pygments_lexer": "ipython3",
      "version": "3.8"
    }
  },
  "nbformat_minor": 4,
  "nbformat": 4,
  "cells": [
    {
      "cell_type": "code",
      "source": "#6.1\ndef sum_of_odds(n):\n    total = 0\n    for num in range(1, n+1, 2): \n        total += num\n    return total\nn = int(input(\"Enter a number n: \"))\nresult = sum_of_odds(n)\nprint(\"The sum of all odd numbers from 1 to\", n, \"is: \", result)",
      "metadata": {
        "trusted": true
      },
      "outputs": [],
      "execution_count": null
    },
    {
      "cell_type": "code",
      "source": "#6.2\ndef is_prime(num):\n    if num <= 1:\n        return False\n    for i in range(2, int(num**0.5) + 1):\n        if num % i == 0:\n            return False\n    return True\ndef sum_primes(n):\n    total = 0\n    for num in range(2, n+1):\n        if is_prime(num):\n            total += num\n    return total\nn = int(input(\"Enter a number n: \"))\nresult = sum_primes(n)\nprint(\"The sum of all prime numbers from 1 to\", n, \"is:\", result)\n",
      "metadata": {
        "trusted": true
      },
      "outputs": [],
      "execution_count": null
    }
  ]
}