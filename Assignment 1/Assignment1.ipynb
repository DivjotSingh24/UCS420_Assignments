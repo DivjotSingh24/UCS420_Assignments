{
  "metadata": {
    "kernelspec": {
      "name": "python",
      "display_name": "Python (Pyodide)",
      "language": "python"
    },
    "language_info": {
      "codemirror_mode": {
        "name": "python",
        "version": 3
      },
      "file_extension": ".py",
      "mimetype": "text/x-python",
      "name": "python",
      "nbconvert_exporter": "python",
      "pygments_lexer": "ipython3",
      "version": "3.8"
    }
  },
  "nbformat_minor": 5,
  "nbformat": 4,
  "cells": [
    {
      "id": "db4e4e0a-acaa-4242-be29-2cf5f889107f",
      "cell_type": "code",
      "source": "#1.1\nprint(\"Divjot Singh Gulati\")\nprint(\"Divjot Singh Gulati\")\nprint(\"Divjot Singh Gulati\")",
      "metadata": {
        "trusted": true
      },
      "outputs": [
        {
          "name": "stdout",
          "text": "Divjot Singh Gulati\nDivjot Singh Gulati\nDivjot Singh Gulati\n",
          "output_type": "stream"
        }
      ],
      "execution_count": 2
    },
    {
      "id": "cef62e91-04b6-4783-938f-a63ff543f71f",
      "cell_type": "code",
      "source": "",
      "metadata": {
        "trusted": true
      },
      "outputs": [],
      "execution_count": null
    }
  ]
}