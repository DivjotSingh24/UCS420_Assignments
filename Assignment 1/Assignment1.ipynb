{
  "cells": [
    {
      "cell_type": "markdown",
      "id": "bcb8d1bc",
      "metadata": {},
      "source": [
        "Assignment 1.1: WAP to print your name three times"
      ]
    },
    {
      "cell_type": "code",
      "execution_count": 2,
      "id": "db4e4e0a-acaa-4242-be29-2cf5f889107f",
      "metadata": {
        "trusted": true
      },
      "outputs": [
        {
          "name": "stdout",
          "output_type": "stream",
          "text": [
            "Divjot Singh Gulati\n",
            "Divjot Singh Gulati\n",
            "Divjot Singh Gulati\n"
          ]
        }
      ],
      "source": [
        "#1.1\n",
        "print(\"Divjot Singh Gulati\")\n",
        "print(\"Divjot Singh Gulati\")\n",
        "print(\"Divjot Singh Gulati\")"
      ]
    },
    {
      "cell_type": "code",
      "execution_count": null,
      "id": "cef62e91-04b6-4783-938f-a63ff543f71f",
      "metadata": {
        "trusted": true
      },
      "outputs": [],
      "source": []
    }
  ],
  "metadata": {
    "kernelspec": {
      "display_name": "Python (Pyodide)",
      "language": "python",
      "name": "python"
    },
    "language_info": {
      "codemirror_mode": {
        "name": "python",
        "version": 3
      },
      "file_extension": ".py",
      "mimetype": "text/x-python",
      "name": "python",
      "nbconvert_exporter": "python",
      "pygments_lexer": "ipython3",
      "version": "3.8"
    }
  },
  "nbformat": 4,
  "nbformat_minor": 5
}
