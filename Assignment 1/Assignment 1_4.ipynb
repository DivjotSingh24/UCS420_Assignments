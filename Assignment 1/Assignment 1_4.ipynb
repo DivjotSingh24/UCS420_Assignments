{
  "cells": [
    {
      "cell_type": "code",
      "execution_count": 1,
      "metadata": {
        "trusted": true
      },
      "outputs": [
        {
          "name": "stdout",
          "output_type": "stream",
          "text": [
            "Table of 7:\n",
            "7 x  1  = 7\n",
            "7 x  2  = 14\n",
            "7 x  3  = 21\n",
            "7 x  4  = 28\n",
            "7 x  5  = 35\n",
            "7 x  6  = 42\n",
            "7 x  7  = 49\n",
            "7 x  8  = 56\n",
            "7 x  9  = 63\n",
            "7 x  10  = 70\n",
            "\n",
            "Table of 9:\n",
            "9 x  1  = 9\n",
            "9 x  2  = 18\n",
            "9 x  3  = 27\n",
            "9 x  4  = 36\n",
            "9 x  5  = 45\n",
            "9 x  6  = 54\n",
            "9 x  7  = 63\n",
            "9 x  8  = 72\n",
            "9 x  9  = 81\n",
            "9 x  10  = 90\n"
          ]
        }
      ],
      "source": [
        "#4.1\n",
        "# Table of 7\n",
        "print(\"Table of 7:\")\n",
        "for i in range(1, 11):\n",
        "    print('7 x ', i, ' =', 7*i)\n",
        "print()\n",
        "# Table of 7\n",
        "print(\"Table of 9:\")\n",
        "for i in range(1, 11):\n",
        "    print('9 x ', i, ' =', 9*i)\n"
      ]
    },
    {
      "cell_type": "code",
      "execution_count": 2,
      "metadata": {
        "trusted": true
      },
      "outputs": [
        {
          "name": "stdout",
          "output_type": "stream",
          "text": [
            "Table of n:\n",
            "4 x 1 = 4\n",
            "4 x 2 = 8\n",
            "4 x 3 = 12\n",
            "4 x 4 = 16\n",
            "4 x 5 = 20\n",
            "4 x 6 = 24\n",
            "4 x 7 = 28\n",
            "4 x 8 = 32\n",
            "4 x 9 = 36\n",
            "4 x 10 = 40\n"
          ]
        }
      ],
      "source": [
        "#4.2\n",
        "n = int(input(\"Enter the number n: \"))\n",
        "print(\"Table of n:\")\n",
        "for i in range(1, 11):\n",
        "    print(n, \"x\", i, \"=\", n * i)"
      ]
    },
    {
      "cell_type": "code",
      "execution_count": 3,
      "metadata": {
        "trusted": true
      },
      "outputs": [
        {
          "name": "stdout",
          "output_type": "stream",
          "text": [
            "The sum of numbers from 1 to n is: 15\n"
          ]
        }
      ],
      "source": [
        "#4.3\n",
        "n = int(input(\"Enter the number n: \"))\n",
        "total_sum = sum(range(1, n + 1))\n",
        "print('The sum of numbers from 1 to n is:', total_sum)"
      ]
    },
    {
      "cell_type": "code",
      "execution_count": null,
      "metadata": {
        "trusted": true
      },
      "outputs": [],
      "source": []
    }
  ],
  "metadata": {
    "kernelspec": {
      "display_name": "Python 3",
      "language": "python",
      "name": "python3"
    },
    "language_info": {
      "codemirror_mode": {
        "name": "ipython",
        "version": 3
      },
      "file_extension": ".py",
      "mimetype": "text/x-python",
      "name": "python",
      "nbconvert_exporter": "python",
      "pygments_lexer": "ipython3",
      "version": "3.13.1"
    }
  },
  "nbformat": 4,
  "nbformat_minor": 4
}
