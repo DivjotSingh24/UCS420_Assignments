{
  "cells": [
    {
      "cell_type": "code",
      "execution_count": 1,
      "metadata": {
        "trusted": true
      },
      "outputs": [
        {
          "name": "stdout",
          "output_type": "stream",
          "text": [
            "The maximum among 4 , 5 and 13 is:  13\n"
          ]
        }
      ],
      "source": [
        "#5.1\n",
        "num1 = int(input(\"Enter the first number: \"))\n",
        "num2 = int(input(\"Enter the second number: \"))\n",
        "num3 = int(input(\"Enter the third number: \"))\n",
        "maximum = max(num1, num2, num3)\n",
        "print(\"The maximum among\", num1, \",\", num2, \"and\", num3, \"is: \", maximum)"
      ]
    },
    {
      "cell_type": "code",
      "execution_count": 2,
      "metadata": {
        "trusted": true
      },
      "outputs": [
        {
          "name": "stdout",
          "output_type": "stream",
          "text": [
            "The sum of numbers divisible by 7 and 9 from 1 to n is:  0\n"
          ]
        }
      ],
      "source": [
        "#5.2\n",
        "n = int(input(\"Enter the number n: \"))\n",
        "totalSum = 0\n",
        "for num in range(1, n + 1):\n",
        "    if num % 7 == 0 and num % 9 == 0:\n",
        "        totalSum += num\n",
        "print(\"The sum of numbers divisible by 7 and 9 from 1 to n is: \", totalSum)"
      ]
    },
    {
      "cell_type": "code",
      "execution_count": 3,
      "metadata": {
        "trusted": true
      },
      "outputs": [
        {
          "name": "stdout",
          "output_type": "stream",
          "text": [
            "The sum of all prime numbers from 1 to 65 is:  501\n"
          ]
        }
      ],
      "source": [
        "#5.3\n",
        "n = int(input(\"Enter a number n: \"))\n",
        "total = 0\n",
        "for num in range(2, n+1):\n",
        "    is_prime = True\n",
        "    for i in range(2, num):\n",
        "        if num % i == 0:\n",
        "            is_prime = False\n",
        "            break\n",
        "    if is_prime:\n",
        "        total += num\n",
        "print(\"The sum of all prime numbers from 1 to\", n, \"is: \", total)\n"
      ]
    }
  ],
  "metadata": {
    "kernelspec": {
      "display_name": "Python 3",
      "language": "python",
      "name": "python3"
    },
    "language_info": {
      "codemirror_mode": {
        "name": "ipython",
        "version": 3
      },
      "file_extension": ".py",
      "mimetype": "text/x-python",
      "name": "python",
      "nbconvert_exporter": "python",
      "pygments_lexer": "ipython3",
      "version": "3.13.1"
    }
  },
  "nbformat": 4,
  "nbformat_minor": 4
}
