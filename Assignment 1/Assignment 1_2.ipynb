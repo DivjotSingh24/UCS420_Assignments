{
  "cells": [
    {
      "cell_type": "markdown",
      "metadata": {},
      "source": [
        "Assignment 2.1: WAP to add three numbers and print the result."
      ]
    },
    {
      "cell_type": "code",
      "execution_count": 1,
      "metadata": {
        "trusted": true
      },
      "outputs": [
        {
          "name": "stdout",
          "output_type": "stream",
          "text": [
            "The sum is: 80\n"
          ]
        }
      ],
      "source": [
        "#2.1\n",
        "x = 24\n",
        "y = 30\n",
        "z = 26\n",
        "result = x + y + z\n",
        "print(\"The sum is:\", result)"
      ]
    },
    {
      "cell_type": "markdown",
      "metadata": {},
      "source": [
        "Assignment 2.2: WAP to concatinate three strings and print the result."
      ]
    },
    {
      "cell_type": "code",
      "execution_count": 2,
      "metadata": {
        "trusted": true
      },
      "outputs": [
        {
          "name": "stdout",
          "output_type": "stream",
          "text": [
            "HelloWorld!\n"
          ]
        }
      ],
      "source": [
        "s1= \"Hello\"\n",
        "s2= \"World\"\n",
        "s3= \"!\"\n",
        "result= s1 + s2 + s3\n",
        "print(result)"
      ]
    }
  ],
  "metadata": {
    "kernelspec": {
      "display_name": "Python 3",
      "language": "python",
      "name": "python3"
    },
    "language_info": {
      "codemirror_mode": {
        "name": "ipython",
        "version": 3
      },
      "file_extension": ".py",
      "mimetype": "text/x-python",
      "name": "python",
      "nbconvert_exporter": "python",
      "pygments_lexer": "ipython3",
      "version": "3.11.9"
    }
  },
  "nbformat": 4,
  "nbformat_minor": 4
}
