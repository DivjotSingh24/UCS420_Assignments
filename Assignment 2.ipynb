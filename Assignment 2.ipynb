{
 "cells": [
  {
   "cell_type": "code",
   "execution_count": 5,
   "metadata": {},
   "outputs": [
    {
     "name": "stdout",
     "output_type": "stream",
     "text": [
      "i)\n",
      "[10, 20, 30, 40, 50, 60, 70, 80, 200, 300]\n",
      "ii)\n",
      "[20, 40, 50, 60, 70, 80, 200, 300]\n",
      "iii)\n",
      "[20, 40, 50, 60, 70, 80, 200, 300]\n",
      "iv)\n",
      "[300, 200, 80, 70, 60, 50, 40, 20]\n"
     ]
    }
   ],
   "source": [
    "#QUESTION 1\n",
    "L=[10, 20, 30, 40, 50, 60, 70, 80]\n",
    "print('i)')\n",
    "L.append(200)\n",
    "L.append(300)\n",
    "print(L)\n",
    "\n",
    "print('ii)')\n",
    "L.remove(10)\n",
    "L.remove(30)\n",
    "print(L)\n",
    "\n",
    "print('iii)')\n",
    "L.sort()\n",
    "print(L)\n",
    "\n",
    "print('iv)')\n",
    "L.sort(reverse=True)\n",
    "print(L)"
   ]
  },
  {
   "cell_type": "code",
   "execution_count": 3,
   "metadata": {},
   "outputs": [
    {
     "name": "stdout",
     "output_type": "stream",
     "text": [
      "i)\n",
      "92\n",
      "ii)\n",
      "Lowest Score is:  45 The count is:  2\n",
      "iii)\n",
      "(45, 58, 92, 89, 45.4, 76, 89.5, 45)\n",
      "[45, 58, 92, 89, 45.4, 76, 89.5, 45]\n",
      "iv)\n",
      "The score 76 is present at index 2\n"
     ]
    }
   ],
   "source": [
    "#QUESTION 2\n",
    "T=(45, 89.5, 76, 45.4, 89, 92, 58, 45)\n",
    "\n",
    "print('i)')\n",
    "high_score=max(T)\n",
    "print(high_score)\n",
    "\n",
    "print('ii)')\n",
    "low_score=min(T)\n",
    "low_count=T.count(low_score)\n",
    "print(\"Lowest Score is: \", low_score, \"The count is: \", low_count)\n",
    "\n",
    "print('iii)')\n",
    "rev_tuple=T[::-1]\n",
    "print(rev_tuple)\n",
    "rev_list=list(rev_tuple)\n",
    "print(rev_list)\n",
    "\n",
    "print('iv)')\n",
    "score = 76\n",
    "if score in T:\n",
    "    first_occur = T.index(score)\n",
    "    print(\"The score\", score, \"is present at index\", first_occur)\n",
    "else:\n",
    "    print(\"The score is not present in the tuple\")"
   ]
  },
  {
   "cell_type": "code",
   "execution_count": null,
   "metadata": {},
   "outputs": [],
   "source": [
    "#QUESTION 3\n",
    "import random\n",
    "listX = [random.randint(100,900) for _ in range(100)]\n",
    "print(\"List :\",listX)\n",
    "evenNum = [x for x in listX if x%2==0]\n",
    "print(\"Even Num:\", evenNum)\n",
    "oddNum = [x for x in listX if not x%2==0]\n",
    "print(\"Odd Num:\",oddNum)\n",
    "primeNum = [x for x in listX if all(i%x!=0 for i in range(2,int(x**0.5)+1))]\n",
    "print(\"Prime Num:\",primeNum)"
   ]
  },
  {
   "cell_type": "code",
   "execution_count": null,
   "metadata": {},
   "outputs": [],
   "source": [
    "#QUESTION 4\n",
    "A = {34, 56, 78, 90}\n",
    "B = {78, 45, 90, 23}\n",
    "print(A|B)\n",
    "print(A&B)\n",
    "print(A.symmetric_difference(B))\n",
    "\n",
    "print(f\"The scores of team A are a subset of team B: {A.issubset(B)}\")\n",
    "print(f\"team B's scores are a superset of team A: {B.issuperset(A)}\")\n",
    "\n",
    "user_in = int(input(\"Enter a score: \"))\n",
    "if user_in in A:\n",
    "    A.remove(user_in)\n",
    "    print(f\"Score {user_in} removed.\")\n",
    "else:\n",
    "    print(f\"Score {user_in} not present in team A.\")"
   ]
  },
  {
   "cell_type": "code",
   "execution_count": null,
   "metadata": {},
   "outputs": [],
   "source": [
    "#QUESTION 5\n",
    "dict= {\n",
    "    'name':\"Divjot\",\n",
    "    'age' :19,\n",
    "    'salary' : 150000,\n",
    "    'city': 'Delhi'\n",
    "}\n",
    "print(dict)\n",
    "dict['location'] = dict.pop('city')\n",
    "print(dict)"
   ]
  }
 ],
 "metadata": {
  "kernelspec": {
   "display_name": "Python 3",
   "language": "python",
   "name": "python3"
  },
  "language_info": {
   "codemirror_mode": {
    "name": "ipython",
    "version": 3
   },
   "file_extension": ".py",
   "mimetype": "text/x-python",
   "name": "python",
   "nbconvert_exporter": "python",
   "pygments_lexer": "ipython3",
   "version": "3.11.9"
  }
 },
 "nbformat": 4,
 "nbformat_minor": 2
}
